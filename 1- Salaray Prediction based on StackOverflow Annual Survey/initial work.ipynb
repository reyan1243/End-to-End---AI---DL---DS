{
 "cells": [
  {
   "cell_type": "code",
   "execution_count": 1,
   "id": "three-advertiser",
   "metadata": {},
   "outputs": [],
   "source": [
    "import numpy as np\n",
    "import pandas as pd\n",
    "import seaborn as sns\n",
    "\n",
    "pd.options.display.max_seq_items = 999999\n"
   ]
  },
  {
   "cell_type": "code",
   "execution_count": 2,
   "id": "fallen-cologne",
   "metadata": {},
   "outputs": [],
   "source": [
    "df = pd.read_csv(\"data/developer_survey_2020/survey_results_public.csv\")\n",
    "schema =  pd.read_csv(\"data/developer_survey_2020/survey_results_schema.csv\")"
   ]
  },
  {
   "cell_type": "code",
   "execution_count": 3,
   "id": "hollywood-armor",
   "metadata": {},
   "outputs": [
    {
     "data": {
      "text/plain": [
       "0             Respondent\n",
       "1             MainBranch\n",
       "2               Hobbyist\n",
       "3                    Age\n",
       "4             Age1stCode\n",
       "             ...        \n",
       "56    WebframeWorkedWith\n",
       "57         WelcomeChange\n",
       "58           WorkWeekHrs\n",
       "59             YearsCode\n",
       "60          YearsCodePro\n",
       "Name: Column, Length: 61, dtype: object"
      ]
     },
     "execution_count": 3,
     "metadata": {},
     "output_type": "execute_result"
    }
   ],
   "source": [
    "schema.loc[:, 'Column']"
   ]
  },
  {
   "cell_type": "code",
   "execution_count": 4,
   "id": "useful-offset",
   "metadata": {},
   "outputs": [],
   "source": [
    "pak_dev_2020=df[df.loc[:, 'Country']=='Pakistan']"
   ]
  },
  {
   "cell_type": "code",
   "execution_count": 5,
   "id": "yellow-finger",
   "metadata": {},
   "outputs": [
    {
     "data": {
      "text/plain": [
       "(809, 61)"
      ]
     },
     "execution_count": 5,
     "metadata": {},
     "output_type": "execute_result"
    }
   ],
   "source": [
    "pak_dev_2020.shape"
   ]
  },
  {
   "cell_type": "code",
   "execution_count": 6,
   "id": "coordinate-china",
   "metadata": {},
   "outputs": [],
   "source": [
    "# 809 devs from Pakistan"
   ]
  },
  {
   "cell_type": "code",
   "execution_count": 7,
   "id": "endangered-saturn",
   "metadata": {},
   "outputs": [
    {
     "data": {
      "text/plain": [
       "479"
      ]
     },
     "execution_count": 7,
     "metadata": {},
     "output_type": "execute_result"
    }
   ],
   "source": [
    "pak_dev_2020.loc[:, \"ConvertedComp\"].isnull().sum()"
   ]
  },
  {
   "cell_type": "code",
   "execution_count": 8,
   "id": "interpreted-consumer",
   "metadata": {},
   "outputs": [
    {
     "data": {
      "text/plain": [
       "330"
      ]
     },
     "execution_count": 8,
     "metadata": {},
     "output_type": "execute_result"
    }
   ],
   "source": [
    "809-479\n",
    "# data => 330 not enough"
   ]
  },
  {
   "cell_type": "code",
   "execution_count": 9,
   "id": "assisted-trainer",
   "metadata": {},
   "outputs": [],
   "source": [
    "df_19 = pd.read_csv(\"data/developer_survey_2019/survey_results_public.csv\")"
   ]
  },
  {
   "cell_type": "code",
   "execution_count": 10,
   "id": "animal-jimmy",
   "metadata": {},
   "outputs": [
    {
     "data": {
      "text/plain": [
       "(923, 85)"
      ]
     },
     "execution_count": 10,
     "metadata": {},
     "output_type": "execute_result"
    }
   ],
   "source": [
    "pak_dev_2019=df_19[df_19.loc[:, 'Country']=='Pakistan']\n",
    "pak_dev_2019.shape"
   ]
  },
  {
   "cell_type": "code",
   "execution_count": 11,
   "id": "funky-chorus",
   "metadata": {},
   "outputs": [
    {
     "data": {
      "text/plain": [
       "501"
      ]
     },
     "execution_count": 11,
     "metadata": {},
     "output_type": "execute_result"
    }
   ],
   "source": [
    "pak_dev_2019.loc[:, \"ConvertedComp\"].isnull().sum()"
   ]
  },
  {
   "cell_type": "code",
   "execution_count": 12,
   "id": "laughing-sixth",
   "metadata": {},
   "outputs": [
    {
     "data": {
      "text/plain": [
       "422"
      ]
     },
     "execution_count": 12,
     "metadata": {},
     "output_type": "execute_result"
    }
   ],
   "source": [
    "923 - 501\n",
    "# 422 data"
   ]
  },
  {
   "cell_type": "code",
   "execution_count": 13,
   "id": "unique-northeast",
   "metadata": {},
   "outputs": [],
   "source": [
    "# 422+330 => 752 data somewhat acceptable"
   ]
  },
  {
   "cell_type": "code",
   "execution_count": null,
   "id": "dental-railway",
   "metadata": {},
   "outputs": [],
   "source": []
  },
  {
   "cell_type": "code",
   "execution_count": 14,
   "id": "imperial-exception",
   "metadata": {},
   "outputs": [],
   "source": [
    "# merging both dfs"
   ]
  },
  {
   "cell_type": "code",
   "execution_count": 15,
   "id": "intense-closer",
   "metadata": {},
   "outputs": [],
   "source": [
    "merged_inner = pd.merge(left=pak_dev_2020, right=pak_dev_2019, how='inner')\n",
    "# on : label or list\n",
    "#     Column or index level names to join on. These must be found in both\n",
    "#     DataFrames. If `on` is None and not merging on indexes then this defaults\n",
    "#     to the intersection of the columns in both DataFrames.\n"
   ]
  },
  {
   "cell_type": "code",
   "execution_count": 16,
   "id": "humanitarian-colon",
   "metadata": {},
   "outputs": [
    {
     "data": {
      "text/plain": [
       "(809, 61)"
      ]
     },
     "execution_count": 16,
     "metadata": {},
     "output_type": "execute_result"
    }
   ],
   "source": [
    "pak_dev_2019.shape # 923, 85\n",
    "pak_dev_2020.shape # 809, 61"
   ]
  },
  {
   "cell_type": "code",
   "execution_count": 17,
   "id": "theoretical-entity",
   "metadata": {},
   "outputs": [
    {
     "data": {
      "text/plain": [
       "Pakistan    1.0\n",
       "Name: Country, dtype: float64"
      ]
     },
     "execution_count": 17,
     "metadata": {},
     "output_type": "execute_result"
    }
   ],
   "source": [
    "pak_dev_2019.loc[:, 'Country'].value_counts(normalize=True) "
   ]
  },
  {
   "cell_type": "code",
   "execution_count": 26,
   "id": "controversial-inquiry",
   "metadata": {},
   "outputs": [
    {
     "data": {
      "text/html": [
       "<div>\n",
       "<style scoped>\n",
       "    .dataframe tbody tr th:only-of-type {\n",
       "        vertical-align: middle;\n",
       "    }\n",
       "\n",
       "    .dataframe tbody tr th {\n",
       "        vertical-align: top;\n",
       "    }\n",
       "\n",
       "    .dataframe thead th {\n",
       "        text-align: right;\n",
       "    }\n",
       "</style>\n",
       "<table border=\"1\" class=\"dataframe\">\n",
       "  <thead>\n",
       "    <tr style=\"text-align: right;\">\n",
       "      <th></th>\n",
       "      <th>Respondent</th>\n",
       "      <th>MainBranch</th>\n",
       "      <th>Hobbyist</th>\n",
       "      <th>Age</th>\n",
       "      <th>Age1stCode</th>\n",
       "      <th>CompFreq</th>\n",
       "      <th>CompTotal</th>\n",
       "      <th>ConvertedComp</th>\n",
       "      <th>Country</th>\n",
       "      <th>CurrencyDesc</th>\n",
       "      <th>...</th>\n",
       "      <th>SOPartFreq</th>\n",
       "      <th>SOVisitFreq</th>\n",
       "      <th>SurveyEase</th>\n",
       "      <th>SurveyLength</th>\n",
       "      <th>Trans</th>\n",
       "      <th>UndergradMajor</th>\n",
       "      <th>WelcomeChange</th>\n",
       "      <th>WorkWeekHrs</th>\n",
       "      <th>YearsCode</th>\n",
       "      <th>YearsCodePro</th>\n",
       "    </tr>\n",
       "  </thead>\n",
       "  <tbody>\n",
       "    <tr>\n",
       "      <th>199</th>\n",
       "      <td>201</td>\n",
       "      <td>I am a developer by profession</td>\n",
       "      <td>Yes</td>\n",
       "      <td>27.0</td>\n",
       "      <td>18</td>\n",
       "      <td>NaN</td>\n",
       "      <td>NaN</td>\n",
       "      <td>NaN</td>\n",
       "      <td>Pakistan</td>\n",
       "      <td>Pakistani rupee</td>\n",
       "      <td>...</td>\n",
       "      <td>Daily or almost daily</td>\n",
       "      <td>Multiple times per day</td>\n",
       "      <td>Easy</td>\n",
       "      <td>Appropriate in length</td>\n",
       "      <td>No</td>\n",
       "      <td>Computer science, computer engineering, or sof...</td>\n",
       "      <td>Just as welcome now as I felt last year</td>\n",
       "      <td>40.0</td>\n",
       "      <td>9</td>\n",
       "      <td>4</td>\n",
       "    </tr>\n",
       "    <tr>\n",
       "      <th>567</th>\n",
       "      <td>569</td>\n",
       "      <td>I am a developer by profession</td>\n",
       "      <td>No</td>\n",
       "      <td>32.0</td>\n",
       "      <td>22</td>\n",
       "      <td>Monthly</td>\n",
       "      <td>220000.0</td>\n",
       "      <td>17124.0</td>\n",
       "      <td>Pakistan</td>\n",
       "      <td>Pakistani rupee</td>\n",
       "      <td>...</td>\n",
       "      <td>A few times per month or weekly</td>\n",
       "      <td>Daily or almost daily</td>\n",
       "      <td>Neither easy nor difficult</td>\n",
       "      <td>Appropriate in length</td>\n",
       "      <td>No</td>\n",
       "      <td>Computer science, computer engineering, or sof...</td>\n",
       "      <td>A lot less welcome now than last year</td>\n",
       "      <td>40.0</td>\n",
       "      <td>8</td>\n",
       "      <td>6</td>\n",
       "    </tr>\n",
       "    <tr>\n",
       "      <th>632</th>\n",
       "      <td>634</td>\n",
       "      <td>I am a developer by profession</td>\n",
       "      <td>Yes</td>\n",
       "      <td>25.0</td>\n",
       "      <td>18</td>\n",
       "      <td>Monthly</td>\n",
       "      <td>2500.0</td>\n",
       "      <td>192.0</td>\n",
       "      <td>Pakistan</td>\n",
       "      <td>Pakistani rupee</td>\n",
       "      <td>...</td>\n",
       "      <td>A few times per month or weekly</td>\n",
       "      <td>Multiple times per day</td>\n",
       "      <td>Easy</td>\n",
       "      <td>Too long</td>\n",
       "      <td>No</td>\n",
       "      <td>Information systems, information technology, o...</td>\n",
       "      <td>Just as welcome now as I felt last year</td>\n",
       "      <td>42.0</td>\n",
       "      <td>6</td>\n",
       "      <td>3</td>\n",
       "    </tr>\n",
       "    <tr>\n",
       "      <th>761</th>\n",
       "      <td>763</td>\n",
       "      <td>I am a developer by profession</td>\n",
       "      <td>Yes</td>\n",
       "      <td>NaN</td>\n",
       "      <td>15</td>\n",
       "      <td>NaN</td>\n",
       "      <td>NaN</td>\n",
       "      <td>NaN</td>\n",
       "      <td>Pakistan</td>\n",
       "      <td>NaN</td>\n",
       "      <td>...</td>\n",
       "      <td>NaN</td>\n",
       "      <td>NaN</td>\n",
       "      <td>Easy</td>\n",
       "      <td>Too short</td>\n",
       "      <td>No</td>\n",
       "      <td>Computer science, computer engineering, or sof...</td>\n",
       "      <td>NaN</td>\n",
       "      <td>NaN</td>\n",
       "      <td>14</td>\n",
       "      <td>NaN</td>\n",
       "    </tr>\n",
       "    <tr>\n",
       "      <th>828</th>\n",
       "      <td>830</td>\n",
       "      <td>I am a developer by profession</td>\n",
       "      <td>Yes</td>\n",
       "      <td>25.0</td>\n",
       "      <td>22</td>\n",
       "      <td>NaN</td>\n",
       "      <td>NaN</td>\n",
       "      <td>NaN</td>\n",
       "      <td>Pakistan</td>\n",
       "      <td>Pakistani rupee</td>\n",
       "      <td>...</td>\n",
       "      <td>Less than once per month or monthly</td>\n",
       "      <td>Multiple times per day</td>\n",
       "      <td>Neither easy nor difficult</td>\n",
       "      <td>Appropriate in length</td>\n",
       "      <td>No</td>\n",
       "      <td>Mathematics or statistics</td>\n",
       "      <td>Just as welcome now as I felt last year</td>\n",
       "      <td>40.0</td>\n",
       "      <td>4</td>\n",
       "      <td>2</td>\n",
       "    </tr>\n",
       "    <tr>\n",
       "      <th>...</th>\n",
       "      <td>...</td>\n",
       "      <td>...</td>\n",
       "      <td>...</td>\n",
       "      <td>...</td>\n",
       "      <td>...</td>\n",
       "      <td>...</td>\n",
       "      <td>...</td>\n",
       "      <td>...</td>\n",
       "      <td>...</td>\n",
       "      <td>...</td>\n",
       "      <td>...</td>\n",
       "      <td>...</td>\n",
       "      <td>...</td>\n",
       "      <td>...</td>\n",
       "      <td>...</td>\n",
       "      <td>...</td>\n",
       "      <td>...</td>\n",
       "      <td>...</td>\n",
       "      <td>...</td>\n",
       "      <td>...</td>\n",
       "      <td>...</td>\n",
       "    </tr>\n",
       "    <tr>\n",
       "      <th>88310</th>\n",
       "      <td>88862</td>\n",
       "      <td>I am a student who is learning to code</td>\n",
       "      <td>Yes</td>\n",
       "      <td>21.0</td>\n",
       "      <td>18</td>\n",
       "      <td>NaN</td>\n",
       "      <td>NaN</td>\n",
       "      <td>NaN</td>\n",
       "      <td>Pakistan</td>\n",
       "      <td>NaN</td>\n",
       "      <td>...</td>\n",
       "      <td>A few times per month or weekly</td>\n",
       "      <td>Multiple times per day</td>\n",
       "      <td>Difficult</td>\n",
       "      <td>Too long</td>\n",
       "      <td>No</td>\n",
       "      <td>Computer science, computer engineering, or sof...</td>\n",
       "      <td>Somewhat more welcome now than last year</td>\n",
       "      <td>NaN</td>\n",
       "      <td>3</td>\n",
       "      <td>NaN</td>\n",
       "    </tr>\n",
       "    <tr>\n",
       "      <th>88353</th>\n",
       "      <td>5439</td>\n",
       "      <td>NaN</td>\n",
       "      <td>Yes</td>\n",
       "      <td>24.0</td>\n",
       "      <td>24</td>\n",
       "      <td>NaN</td>\n",
       "      <td>NaN</td>\n",
       "      <td>NaN</td>\n",
       "      <td>Pakistan</td>\n",
       "      <td>NaN</td>\n",
       "      <td>...</td>\n",
       "      <td>NaN</td>\n",
       "      <td>I have never visited Stack Overflow (before to...</td>\n",
       "      <td>Easy</td>\n",
       "      <td>Too short</td>\n",
       "      <td>Yes</td>\n",
       "      <td>Information systems, information technology, o...</td>\n",
       "      <td>A lot more welcome now than last year</td>\n",
       "      <td>NaN</td>\n",
       "      <td>2</td>\n",
       "      <td>2</td>\n",
       "    </tr>\n",
       "    <tr>\n",
       "      <th>88567</th>\n",
       "      <td>39117</td>\n",
       "      <td>NaN</td>\n",
       "      <td>Yes</td>\n",
       "      <td>22.0</td>\n",
       "      <td>18</td>\n",
       "      <td>NaN</td>\n",
       "      <td>NaN</td>\n",
       "      <td>NaN</td>\n",
       "      <td>Pakistan</td>\n",
       "      <td>NaN</td>\n",
       "      <td>...</td>\n",
       "      <td>Daily or almost daily</td>\n",
       "      <td>Daily or almost daily</td>\n",
       "      <td>Easy</td>\n",
       "      <td>Appropriate in length</td>\n",
       "      <td>No</td>\n",
       "      <td>Web development or web design</td>\n",
       "      <td>Just as welcome now as I felt last year</td>\n",
       "      <td>NaN</td>\n",
       "      <td>4</td>\n",
       "      <td>2</td>\n",
       "    </tr>\n",
       "    <tr>\n",
       "      <th>88710</th>\n",
       "      <td>60066</td>\n",
       "      <td>NaN</td>\n",
       "      <td>Yes</td>\n",
       "      <td>20.0</td>\n",
       "      <td>16</td>\n",
       "      <td>NaN</td>\n",
       "      <td>NaN</td>\n",
       "      <td>NaN</td>\n",
       "      <td>Pakistan</td>\n",
       "      <td>NaN</td>\n",
       "      <td>...</td>\n",
       "      <td>Less than once per month or monthly</td>\n",
       "      <td>A few times per week</td>\n",
       "      <td>Easy</td>\n",
       "      <td>Appropriate in length</td>\n",
       "      <td>No</td>\n",
       "      <td>I never declared a major</td>\n",
       "      <td>Just as welcome now as I felt last year</td>\n",
       "      <td>NaN</td>\n",
       "      <td>4</td>\n",
       "      <td>NaN</td>\n",
       "    </tr>\n",
       "    <tr>\n",
       "      <th>88875</th>\n",
       "      <td>88182</td>\n",
       "      <td>NaN</td>\n",
       "      <td>Yes</td>\n",
       "      <td>NaN</td>\n",
       "      <td>Younger than 5 years</td>\n",
       "      <td>NaN</td>\n",
       "      <td>NaN</td>\n",
       "      <td>NaN</td>\n",
       "      <td>Pakistan</td>\n",
       "      <td>NaN</td>\n",
       "      <td>...</td>\n",
       "      <td>NaN</td>\n",
       "      <td>I have never visited Stack Overflow (before to...</td>\n",
       "      <td>Neither easy nor difficult</td>\n",
       "      <td>Too short</td>\n",
       "      <td>No</td>\n",
       "      <td>NaN</td>\n",
       "      <td>Not applicable - I did not use Stack Overflow ...</td>\n",
       "      <td>NaN</td>\n",
       "      <td>1</td>\n",
       "      <td>Less than 1 year</td>\n",
       "    </tr>\n",
       "  </tbody>\n",
       "</table>\n",
       "<p>1732 rows × 43 columns</p>\n",
       "</div>"
      ],
      "text/plain": [
       "       Respondent                              MainBranch Hobbyist   Age  \\\n",
       "199           201          I am a developer by profession      Yes  27.0   \n",
       "567           569          I am a developer by profession       No  32.0   \n",
       "632           634          I am a developer by profession      Yes  25.0   \n",
       "761           763          I am a developer by profession      Yes   NaN   \n",
       "828           830          I am a developer by profession      Yes  25.0   \n",
       "...           ...                                     ...      ...   ...   \n",
       "88310       88862  I am a student who is learning to code      Yes  21.0   \n",
       "88353        5439                                     NaN      Yes  24.0   \n",
       "88567       39117                                     NaN      Yes  22.0   \n",
       "88710       60066                                     NaN      Yes  20.0   \n",
       "88875       88182                                     NaN      Yes   NaN   \n",
       "\n",
       "                 Age1stCode CompFreq  CompTotal  ConvertedComp   Country  \\\n",
       "199                      18      NaN        NaN            NaN  Pakistan   \n",
       "567                      22  Monthly   220000.0        17124.0  Pakistan   \n",
       "632                      18  Monthly     2500.0          192.0  Pakistan   \n",
       "761                      15      NaN        NaN            NaN  Pakistan   \n",
       "828                      22      NaN        NaN            NaN  Pakistan   \n",
       "...                     ...      ...        ...            ...       ...   \n",
       "88310                    18      NaN        NaN            NaN  Pakistan   \n",
       "88353                    24      NaN        NaN            NaN  Pakistan   \n",
       "88567                    18      NaN        NaN            NaN  Pakistan   \n",
       "88710                    16      NaN        NaN            NaN  Pakistan   \n",
       "88875  Younger than 5 years      NaN        NaN            NaN  Pakistan   \n",
       "\n",
       "          CurrencyDesc  ...                           SOPartFreq  \\\n",
       "199    Pakistani rupee  ...                Daily or almost daily   \n",
       "567    Pakistani rupee  ...      A few times per month or weekly   \n",
       "632    Pakistani rupee  ...      A few times per month or weekly   \n",
       "761                NaN  ...                                  NaN   \n",
       "828    Pakistani rupee  ...  Less than once per month or monthly   \n",
       "...                ...  ...                                  ...   \n",
       "88310              NaN  ...      A few times per month or weekly   \n",
       "88353              NaN  ...                                  NaN   \n",
       "88567              NaN  ...                Daily or almost daily   \n",
       "88710              NaN  ...  Less than once per month or monthly   \n",
       "88875              NaN  ...                                  NaN   \n",
       "\n",
       "                                             SOVisitFreq  \\\n",
       "199                               Multiple times per day   \n",
       "567                                Daily or almost daily   \n",
       "632                               Multiple times per day   \n",
       "761                                                  NaN   \n",
       "828                               Multiple times per day   \n",
       "...                                                  ...   \n",
       "88310                             Multiple times per day   \n",
       "88353  I have never visited Stack Overflow (before to...   \n",
       "88567                              Daily or almost daily   \n",
       "88710                               A few times per week   \n",
       "88875  I have never visited Stack Overflow (before to...   \n",
       "\n",
       "                       SurveyEase           SurveyLength Trans  \\\n",
       "199                          Easy  Appropriate in length    No   \n",
       "567    Neither easy nor difficult  Appropriate in length    No   \n",
       "632                          Easy               Too long    No   \n",
       "761                          Easy              Too short    No   \n",
       "828    Neither easy nor difficult  Appropriate in length    No   \n",
       "...                           ...                    ...   ...   \n",
       "88310                   Difficult               Too long    No   \n",
       "88353                        Easy              Too short   Yes   \n",
       "88567                        Easy  Appropriate in length    No   \n",
       "88710                        Easy  Appropriate in length    No   \n",
       "88875  Neither easy nor difficult              Too short    No   \n",
       "\n",
       "                                          UndergradMajor  \\\n",
       "199    Computer science, computer engineering, or sof...   \n",
       "567    Computer science, computer engineering, or sof...   \n",
       "632    Information systems, information technology, o...   \n",
       "761    Computer science, computer engineering, or sof...   \n",
       "828                            Mathematics or statistics   \n",
       "...                                                  ...   \n",
       "88310  Computer science, computer engineering, or sof...   \n",
       "88353  Information systems, information technology, o...   \n",
       "88567                      Web development or web design   \n",
       "88710                           I never declared a major   \n",
       "88875                                                NaN   \n",
       "\n",
       "                                           WelcomeChange WorkWeekHrs  \\\n",
       "199              Just as welcome now as I felt last year        40.0   \n",
       "567                A lot less welcome now than last year        40.0   \n",
       "632              Just as welcome now as I felt last year        42.0   \n",
       "761                                                  NaN         NaN   \n",
       "828              Just as welcome now as I felt last year        40.0   \n",
       "...                                                  ...         ...   \n",
       "88310           Somewhat more welcome now than last year         NaN   \n",
       "88353              A lot more welcome now than last year         NaN   \n",
       "88567            Just as welcome now as I felt last year         NaN   \n",
       "88710            Just as welcome now as I felt last year         NaN   \n",
       "88875  Not applicable - I did not use Stack Overflow ...         NaN   \n",
       "\n",
       "      YearsCode      YearsCodePro  \n",
       "199           9                 4  \n",
       "567           8                 6  \n",
       "632           6                 3  \n",
       "761          14               NaN  \n",
       "828           4                 2  \n",
       "...         ...               ...  \n",
       "88310         3               NaN  \n",
       "88353         2                 2  \n",
       "88567         4                 2  \n",
       "88710         4               NaN  \n",
       "88875         1  Less than 1 year  \n",
       "\n",
       "[1732 rows x 43 columns]"
      ]
     },
     "execution_count": 26,
     "metadata": {},
     "output_type": "execute_result"
    }
   ],
   "source": [
    "comb = pd.concat([pak_dev_2020, pak_dev_2019], join='inner')\n",
    "\n",
    "comb # PERFECTTTTTTTTTTTTTTTTTTTTTTTTTTTTTTTTTTTTTTTTTTTTTTTTTTTTTTTTTTTTTTTT"
   ]
  },
  {
   "cell_type": "code",
   "execution_count": 19,
   "id": "persistent-economy",
   "metadata": {},
   "outputs": [],
   "source": [
    "# merged = ['Respondent', 'MainBranch', 'Hobbyist', 'Age', 'Age1stCode', 'CompFreq',\n",
    "#        'CompTotal', 'ConvertedComp', 'Country', 'CurrencyDesc',\n",
    "#        'CurrencySymbol', 'DatabaseDesireNextYear', 'DatabaseWorkedWith',\n",
    "#        'DevType', 'EdLevel', 'Employment', 'Ethnicity', 'Gender', 'JobFactors',\n",
    "#        'JobSat', 'JobSeek', 'LanguageDesireNextYear', 'LanguageWorkedWith',\n",
    "#        'MiscTechDesireNextYear', 'MiscTechWorkedWith',\n",
    "#        'NEWCollabToolsDesireNextYear', 'NEWCollabToolsWorkedWith', 'NEWDevOps',\n",
    "#        'NEWDevOpsImpt', 'NEWEdImpt', 'NEWJobHunt', 'NEWJobHuntResearch',\n",
    "#        'NEWLearn', 'NEWOffTopic', 'NEWOnboardGood', 'NEWOtherComms',\n",
    "#        'NEWOvertime', 'NEWPurchaseResearch', 'NEWPurpleLink', 'NEWSOSites',\n",
    "#        'NEWStuck', 'OpSys', 'OrgSize', 'PlatformDesireNextYear',\n",
    "#        'PlatformWorkedWith', 'PurchaseWhat', 'Sexuality', 'SOAccount',\n",
    "#        'SOComm', 'SOPartFreq', 'SOVisitFreq', 'SurveyEase', 'SurveyLength',\n",
    "#        'Trans', 'UndergradMajor', 'WebframeDesireNextYear',\n",
    "#        'WebframeWorkedWith', 'WelcomeChange', 'WorkWeekHrs', 'YearsCode',\n",
    "#        'YearsCodePro', 'OpenSourcer', 'OpenSource', 'Student', 'EduOther',\n",
    "#        'CareerSat', 'MgrIdiot', 'MgrMoney', 'MgrWant', 'LastHireDate',\n",
    "#        'LastInt', 'FizzBuzz', 'ResumeUpdate', 'WorkPlan', 'WorkChallenge',\n",
    "#        'WorkRemote', 'WorkLoc', 'ImpSyn', 'CodeRev', 'CodeRevHrs', 'UnitTests',\n",
    "#        'PurchaseHow', 'WebFrameWorkedWith', 'WebFrameDesireNextYear',\n",
    "#        'DevEnviron', 'Containers', 'BlockchainOrg', 'BlockchainIs',\n",
    "#        'BetterLife', 'ITperson', 'OffOn', 'SocialMedia', 'Extraversion',\n",
    "#        'ScreenName', 'SOVisit1st', 'SOVisitTo', 'SOFindAnswer', 'SOTimeSaved',\n",
    "#        'SOHowMuchTime', 'SOJobs', 'EntTeams', 'SONewContent', 'Dependents']\n",
    "\n",
    "\n",
    "\n",
    "\n",
    "# pak_dev_2020 = ['Respondent', 'MainBranch', 'Hobbyist', 'Age', 'Age1stCode', 'CompFreq',\n",
    "#        'CompTotal', 'ConvertedComp', 'Country', 'CurrencyDesc',\n",
    "#        'CurrencySymbol', 'DatabaseDesireNextYear', 'DatabaseWorkedWith',\n",
    "#        'DevType', 'EdLevel', 'Employment', 'Ethnicity', 'Gender', 'JobFactors',\n",
    "#        'JobSat', 'JobSeek', 'LanguageDesireNextYear', 'LanguageWorkedWith',\n",
    "#        'MiscTechDesireNextYear', 'MiscTechWorkedWith',\n",
    "#        'NEWCollabToolsDesireNextYear', 'NEWCollabToolsWorkedWith', 'NEWDevOps',\n",
    "#        'NEWDevOpsImpt', 'NEWEdImpt', 'NEWJobHunt', 'NEWJobHuntResearch',\n",
    "#        'NEWLearn', 'NEWOffTopic', 'NEWOnboardGood', 'NEWOtherComms',\n",
    "#        'NEWOvertime', 'NEWPurchaseResearch', 'NEWPurpleLink', 'NEWSOSites',\n",
    "#        'NEWStuck', 'OpSys', 'OrgSize', 'PlatformDesireNextYear',\n",
    "#        'PlatformWorkedWith', 'PurchaseWhat', 'Sexuality', 'SOAccount',\n",
    "#        'SOComm', 'SOPartFreq', 'SOVisitFreq', 'SurveyEase', 'SurveyLength',\n",
    "#        'Trans', 'UndergradMajor', 'WebframeDesireNextYear',\n",
    "#        'WebframeWorkedWith', 'WelcomeChange', 'WorkWeekHrs', 'YearsCode',\n",
    "#        'YearsCodePro']\n",
    "\n",
    "\n",
    "# pak_dev_2019 = ['Respondent', 'MainBranch', 'Hobbyist', 'OpenSourcer', 'OpenSource',\n",
    "#        'Employment', 'Country', 'Student', 'EdLevel', 'UndergradMajor',\n",
    "#        'EduOther', 'OrgSize', 'DevType', 'YearsCode', 'Age1stCode',\n",
    "#        'YearsCodePro', 'CareerSat', 'JobSat', 'MgrIdiot', 'MgrMoney',\n",
    "#        'MgrWant', 'JobSeek', 'LastHireDate', 'LastInt', 'FizzBuzz',\n",
    "#        'JobFactors', 'ResumeUpdate', 'CurrencySymbol', 'CurrencyDesc',\n",
    "#        'CompTotal', 'CompFreq', 'ConvertedComp', 'WorkWeekHrs', 'WorkPlan',\n",
    "#        'WorkChallenge', 'WorkRemote', 'WorkLoc', 'ImpSyn', 'CodeRev',\n",
    "#        'CodeRevHrs', 'UnitTests', 'PurchaseHow', 'PurchaseWhat',\n",
    "#        'LanguageWorkedWith', 'LanguageDesireNextYear', 'DatabaseWorkedWith',\n",
    "#        'DatabaseDesireNextYear', 'PlatformWorkedWith',\n",
    "#        'PlatformDesireNextYear', 'WebFrameWorkedWith',\n",
    "#        'WebFrameDesireNextYear', 'MiscTechWorkedWith',\n",
    "#        'MiscTechDesireNextYear', 'DevEnviron', 'OpSys', 'Containers',\n",
    "#        'BlockchainOrg', 'BlockchainIs', 'BetterLife', 'ITperson', 'OffOn',\n",
    "#        'SocialMedia', 'Extraversion', 'ScreenName', 'SOVisit1st',\n",
    "#        'SOVisitFreq', 'SOVisitTo', 'SOFindAnswer', 'SOTimeSaved',\n",
    "#        'SOHowMuchTime', 'SOAccount', 'SOPartFreq', 'SOJobs', 'EntTeams',\n",
    "#        'SOComm', 'WelcomeChange', 'SONewContent', 'Age', 'Gender', 'Trans',\n",
    "#        'Sexuality', 'Ethnicity', 'Dependents', 'SurveyLength', 'SurveyEase']"
   ]
  },
  {
   "cell_type": "code",
   "execution_count": 20,
   "id": "adjacent-clinic",
   "metadata": {},
   "outputs": [],
   "source": [
    "# len(list(set(merged) & set(pak_dev_2019) & set(pak_dev_2020)))\n",
    "\n",
    "# # 43 columns are common where tf are remaining 60 comming from"
   ]
  },
  {
   "cell_type": "code",
   "execution_count": 21,
   "id": "determined-hampton",
   "metadata": {},
   "outputs": [],
   "source": [
    "# len(pak_dev_2019)"
   ]
  },
  {
   "cell_type": "code",
   "execution_count": 22,
   "id": "romance-belle",
   "metadata": {},
   "outputs": [],
   "source": [
    "# len(pak_dev_2020) + len(pak_dev_2019) # 146"
   ]
  },
  {
   "cell_type": "code",
   "execution_count": 23,
   "id": "superb-residence",
   "metadata": {},
   "outputs": [],
   "source": [
    "# comb.shape # 103 columns"
   ]
  },
  {
   "cell_type": "code",
   "execution_count": 24,
   "id": "naval-newark",
   "metadata": {},
   "outputs": [],
   "source": [
    "# len(list(set(pak_dev_2019) | set(pak_dev_2020))) # 103+43 = 146 total"
   ]
  }
 ],
 "metadata": {
  "kernelspec": {
   "display_name": "Python 3",
   "language": "python",
   "name": "python3"
  },
  "language_info": {
   "codemirror_mode": {
    "name": "ipython",
    "version": 3
   },
   "file_extension": ".py",
   "mimetype": "text/x-python",
   "name": "python",
   "nbconvert_exporter": "python",
   "pygments_lexer": "ipython3",
   "version": "3.8.8"
  }
 },
 "nbformat": 4,
 "nbformat_minor": 5
}
